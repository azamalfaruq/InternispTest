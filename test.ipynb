{
  "nbformat": 4,
  "nbformat_minor": 0,
  "metadata": {
    "colab": {
      "provenance": []
    },
    "kernelspec": {
      "name": "python3",
      "display_name": "Python 3"
    },
    "language_info": {
      "name": "python"
    }
  },
  "cells": [
    {
      "cell_type": "code",
      "execution_count": 31,
      "metadata": {
        "colab": {
          "base_uri": "https://localhost:8080/"
        },
        "id": "SmS9bfG-Np6v",
        "outputId": "b3e8fc16-e95f-460b-b1fa-c9c22199002a"
      },
      "outputs": [
        {
          "output_type": "stream",
          "name": "stdout",
          "text": [
            "input angka : 9\n",
            "9\n",
            "7\n",
            "5\n",
            "3\n",
            "1\n"
          ]
        }
      ],
      "source": [
        "num = int(input('input angka : '))\n",
        "\n",
        "for i in range(num):\n",
        "  if num % 2 == 1:\n",
        "    print(num)\n",
        "  num = num -1\n",
        "\n"
      ]
    },
    {
      "cell_type": "code",
      "source": [
        "text = str(input('masukkan teks : '))\n",
        "for hurufvokal in text :\n",
        "  if hurufvokal == 'a' or hurufvokal == 'A':\n",
        "    print(hurufvokal, end ='')\n",
        "  elif hurufvokal == 'i' or hurufvokal == 'I':\n",
        "    print(hurufvokal, end ='')\n",
        "  elif hurufvokal == 'u' or hurufvokal == 'U':\n",
        "    print(hurufvokal, end ='')\n",
        "  elif hurufvokal == 'e' or hurufvokal == 'E':\n",
        "    print(hurufvokal, end ='')\n",
        "  elif hurufvokal == 'o' or hurufvokal == 'O':\n",
        "    print(hurufvokal, end ='')\n",
        "\n"
      ],
      "metadata": {
        "colab": {
          "base_uri": "https://localhost:8080/"
        },
        "id": "gyodgoofQ_iJ",
        "outputId": "f134333e-6bc8-4688-e847-5e8d9dee8941"
      },
      "execution_count": 32,
      "outputs": [
        {
          "output_type": "stream",
          "name": "stdout",
          "text": [
            "masukkan teks : huruf\n",
            "uu"
          ]
        }
      ]
    }
  ]
}